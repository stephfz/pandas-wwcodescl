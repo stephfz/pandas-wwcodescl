{
  "nbformat": 4,
  "nbformat_minor": 0,
  "metadata": {
    "colab": {
      "name": "Pandas101.ipynb",
      "version": "0.3.2",
      "provenance": [],
      "collapsed_sections": [],
      "toc_visible": true
    },
    "kernelspec": {
      "name": "python3",
      "display_name": "Python 3"
    }
  },
  "cells": [
    {
      "cell_type": "markdown",
      "metadata": {
        "id": "SHRVt6ozAa5S",
        "colab_type": "text"
      },
      "source": [
        "# **(Breve) Introducción al Análisis de Datos con pandas**\n",
        "\n",
        "**¿Qué es Pandas?**\n",
        "Es la librería de Python para el Análisis de Datos o *Python Data Analysis Library*\n",
        "\n",
        "Para la sesión de hoy usaremos el dataset del [Titanic](https://www.kaggle.com/c/titanic/data)"
      ]
    },
    {
      "cell_type": "markdown",
      "metadata": {
        "id": "CNR18YN-D91b",
        "colab_type": "text"
      },
      "source": [
        "# Importación de Librerías y carga de datos"
      ]
    },
    {
      "cell_type": "code",
      "metadata": {
        "id": "nraV-Mn5jTrU",
        "colab_type": "code",
        "colab": {}
      },
      "source": [
        "import pandas as pd\n",
        "import requests\n",
        "import io \n",
        "\n",
        "#nos vamos a importar un dataset\n",
        "url=\"https://raw.githubusercontent.com/datasciencedojo/datasets/master/titanic.csv\"\n",
        "s=requests.get(url).content\n",
        "df_original=pd.read_csv(io.StringIO(s.decode('utf-8')))\n",
        "\n",
        "#Generar una copia just_in_case\n",
        "df = df_original.copy() \n",
        "\n",
        "\n",
        "#explorando un poco la data\n",
        "df.head(5)\n"
      ],
      "execution_count": 0,
      "outputs": []
    },
    {
      "cell_type": "code",
      "metadata": {
        "id": "i7ks5OWX7QW-",
        "colab_type": "code",
        "colab": {}
      },
      "source": [
        "# Tambien podemos ver los ultimos 25 registros\n",
        "df.tail(25)"
      ],
      "execution_count": 0,
      "outputs": []
    },
    {
      "cell_type": "code",
      "metadata": {
        "id": "CyVdTgcmAsby",
        "colab_type": "code",
        "colab": {}
      },
      "source": [
        "#Obteniendo las dimensiones de DataFrame\n",
        "print(df.shape)"
      ],
      "execution_count": 0,
      "outputs": []
    },
    {
      "cell_type": "code",
      "metadata": {
        "id": "6Ea6G5OumWGx",
        "colab_type": "code",
        "colab": {}
      },
      "source": [
        "\n",
        "#Dimensiones de la data, de forma mas comprensible (:\n",
        "rows, columns = df.shape\n",
        "print ('Filas: {0}, Columnas: {1}'.format(rows, columns))"
      ],
      "execution_count": 0,
      "outputs": []
    },
    {
      "cell_type": "code",
      "metadata": {
        "id": "mFesVDUH7ZbG",
        "colab_type": "code",
        "colab": {}
      },
      "source": [
        "# Obteniendo mas informacion sobre el dataset\n",
        "df.info()"
      ],
      "execution_count": 0,
      "outputs": []
    },
    {
      "cell_type": "code",
      "metadata": {
        "id": "0fty-Rho7fn6",
        "colab_type": "code",
        "colab": {}
      },
      "source": [
        "# Podemos ver el tipo de dato por cada columna\n",
        "df.dtypes"
      ],
      "execution_count": 0,
      "outputs": []
    },
    {
      "cell_type": "markdown",
      "metadata": {
        "id": "O3PzhFt4ETGI",
        "colab_type": "text"
      },
      "source": [
        "# Exploración de datos"
      ]
    },
    {
      "cell_type": "code",
      "metadata": {
        "id": "QZiE5B2anlZm",
        "colab_type": "code",
        "colab": {}
      },
      "source": [
        "#Queremos ver la cuenta de datos por columna\n",
        "print(df.count())"
      ],
      "execution_count": 0,
      "outputs": []
    },
    {
      "cell_type": "markdown",
      "metadata": {
        "id": "JNydHTFuBiLk",
        "colab_type": "text"
      },
      "source": [
        "Como parte de la exploración de datos, veamos si es que todas las columnas tienen datos válidos."
      ]
    },
    {
      "cell_type": "code",
      "metadata": {
        "id": "a09OP9Qfn2I-",
        "colab_type": "code",
        "colab": {}
      },
      "source": [
        "#Otra forma de ver contar datos validos por columnas\n",
        "columns = df.columns.tolist()\n",
        "for column in columns:\n",
        "  print('Valores nulos para la columna <{0}> : {1}'.format(column, df[column].isnull().sum()))"
      ],
      "execution_count": 0,
      "outputs": []
    },
    {
      "cell_type": "code",
      "metadata": {
        "id": "msuTed7vCy8a",
        "colab_type": "code",
        "colab": {}
      },
      "source": [
        "# Queremos ver los valores unicos por columna\n",
        "df.nunique()"
      ],
      "execution_count": 0,
      "outputs": []
    },
    {
      "cell_type": "code",
      "metadata": {
        "id": "yt5eecO1sWUG",
        "colab_type": "code",
        "colab": {}
      },
      "source": [
        "# Puedo hacer un preview o head de una columna en particular\n",
        "df['Sex'].head()"
      ],
      "execution_count": 0,
      "outputs": []
    },
    {
      "cell_type": "code",
      "metadata": {
        "id": "02Ze_Nb_BxKV",
        "colab_type": "code",
        "colab": {}
      },
      "source": [
        "# Puedo hacer cuentas por columnas\n",
        "df.Sex.value_counts()"
      ],
      "execution_count": 0,
      "outputs": []
    },
    {
      "cell_type": "code",
      "metadata": {
        "id": "f8-Lolug7568",
        "colab_type": "code",
        "colab": {}
      },
      "source": [
        "# Podemos ordenar una columna determinada v2\n",
        "df.sort_values('Fare').head(10)"
      ],
      "execution_count": 0,
      "outputs": []
    },
    {
      "cell_type": "code",
      "metadata": {
        "id": "_p2f_3o18HlH",
        "colab_type": "code",
        "colab": {}
      },
      "source": [
        "# Podemos ordenar una columna determinada\n",
        "df.sort_values('Fare', ascending = False).head(10)"
      ],
      "execution_count": 0,
      "outputs": []
    },
    {
      "cell_type": "code",
      "metadata": {
        "id": "PmDGnuFZ_Hwq",
        "colab_type": "code",
        "colab": {}
      },
      "source": [
        "# Ordenando una columna con valores NaN\n",
        "df.sort_values(\"Age\", ascending = True, na_position ='last').tail(20)"
      ],
      "execution_count": 0,
      "outputs": []
    },
    {
      "cell_type": "code",
      "metadata": {
        "id": "NSFOwBj0uFkO",
        "colab_type": "code",
        "colab": {}
      },
      "source": [
        "df[df.Fare == 0].sort_values(by='Pclass')\n",
        "#df[df['Fare'] == 0].sort_values(by='Pclass')"
      ],
      "execution_count": 0,
      "outputs": []
    },
    {
      "cell_type": "code",
      "metadata": {
        "id": "GphoCaC4zCkr",
        "colab_type": "code",
        "colab": {}
      },
      "source": [
        "#Podemos hacer cuentas por columnas en base a un filtro\n",
        "df.Sex[df.Sex=='female'].count()"
      ],
      "execution_count": 0,
      "outputs": []
    },
    {
      "cell_type": "code",
      "metadata": {
        "id": "6KdxVTy0EcMp",
        "colab_type": "code",
        "colab": {}
      },
      "source": [
        "# Podemos filtrar datos por un valor en especifico\n",
        "df[df[\"Pclass\"] == 3].head(5)"
      ],
      "execution_count": 0,
      "outputs": []
    },
    {
      "cell_type": "code",
      "metadata": {
        "id": "yPNxUe1g0YT7",
        "colab_type": "code",
        "colab": {}
      },
      "source": [
        "# Obteniendo sub-grupo de datos\n",
        "df.loc[[5,46], ['Sex','Pclass', 'Survived']]"
      ],
      "execution_count": 0,
      "outputs": []
    },
    {
      "cell_type": "code",
      "metadata": {
        "id": "ueCqccf3ZShM",
        "colab_type": "code",
        "colab": {}
      },
      "source": [
        "# Obteniendo sub-grupo de datos v2\n",
        "df.iloc[5:10, 3:9]"
      ],
      "execution_count": 0,
      "outputs": []
    },
    {
      "cell_type": "code",
      "metadata": {
        "id": "3IEYxQ5asfji",
        "colab_type": "code",
        "colab": {}
      },
      "source": [
        "df.describe()"
      ],
      "execution_count": 0,
      "outputs": []
    },
    {
      "cell_type": "markdown",
      "metadata": {
        "id": "yzwjcG_DEbQh",
        "colab_type": "text"
      },
      "source": [
        "# Transformación de datos"
      ]
    },
    {
      "cell_type": "markdown",
      "metadata": {
        "id": "fqEuc-knJPVH",
        "colab_type": "text"
      },
      "source": [
        "Podemos realizar un rápida transformación de datos para simplificar el análisis y/o posterior agrupación."
      ]
    },
    {
      "cell_type": "code",
      "metadata": {
        "id": "l06ijIW9rJ2w",
        "colab_type": "code",
        "colab": {}
      },
      "source": [
        "#Transformacion de datos\n",
        "genders = {'male':'M', 'female': 'F'}\n",
        "df['Sex'] = df['Sex'].apply(lambda x : genders[x])\n",
        "df['Sex'].head()"
      ],
      "execution_count": 0,
      "outputs": []
    },
    {
      "cell_type": "markdown",
      "metadata": {
        "id": "fOItrkIiJ0zq",
        "colab_type": "text"
      },
      "source": [
        "En la exploración inicial de datos, pudimos notar que la columna Age tiene datos nulos. Para salvar estos datos nulos y poder considerarlos dentro de nuestro dataset, podriamos convertir esos *nulos* al promedio de edades de todo el dataset"
      ]
    },
    {
      "cell_type": "code",
      "metadata": {
        "id": "q1y2TYZW0ATN",
        "colab_type": "code",
        "colab": {}
      },
      "source": [
        "#mostrar todos los nulos\n",
        "df.Age.isnull().sum()\n",
        "#Reemplazando valores null por valores medios\n",
        "df['Age'] = df['Age'].fillna(df.Age.mean())"
      ],
      "execution_count": 0,
      "outputs": []
    },
    {
      "cell_type": "code",
      "metadata": {
        "id": "j26GVQYjuHG0",
        "colab_type": "code",
        "colab": {}
      },
      "source": [
        "df.Age.isnull().sum()"
      ],
      "execution_count": 0,
      "outputs": []
    },
    {
      "cell_type": "markdown",
      "metadata": {
        "id": "ATVHXZHAJlBc",
        "colab_type": "text"
      },
      "source": [
        "# Análisis"
      ]
    },
    {
      "cell_type": "code",
      "metadata": {
        "id": "NbCbwgDZ291r",
        "colab_type": "code",
        "colab": {}
      },
      "source": [
        "#Cuantos sobrevivieron\n",
        "total_survivors = df[df.Survived == 1].count()['Survived']\n",
        "print('Número Total de sobrevivientes: {0}'.format(total_survivors))"
      ],
      "execution_count": 0,
      "outputs": []
    },
    {
      "cell_type": "code",
      "metadata": {
        "id": "uOPBcfJpvTEz",
        "colab_type": "code",
        "colab": {}
      },
      "source": [
        "# Tablas Cruzadas, metodo de Libreria no del dataframe\n",
        "# Queremos ver la proporcion de sobrevivientes por sexo\n",
        "pd.crosstab(df.Sex, df.Survived)"
      ],
      "execution_count": 0,
      "outputs": []
    },
    {
      "cell_type": "code",
      "metadata": {
        "id": "ZimyVRBbwEu3",
        "colab_type": "code",
        "colab": {}
      },
      "source": [
        "# Podemos agrupar \n",
        "pclass_gender_survival_rate_df = df.groupby(['Pclass','Sex'])[ 'Survived'].sum()\n",
        "pclass_gender_survival_rate_df"
      ],
      "execution_count": 0,
      "outputs": []
    },
    {
      "cell_type": "code",
      "metadata": {
        "id": "bie_VNHi-wvM",
        "colab_type": "code",
        "colab": {}
      },
      "source": [
        "df_survivors = df[df.Survived == 1]\n",
        "df_survivors.shape"
      ],
      "execution_count": 0,
      "outputs": []
    },
    {
      "cell_type": "code",
      "metadata": {
        "id": "fNr5ptHk_Z5t",
        "colab_type": "code",
        "colab": {}
      },
      "source": [
        "df_survivors.describe()"
      ],
      "execution_count": 0,
      "outputs": []
    },
    {
      "cell_type": "code",
      "metadata": {
        "id": "7XGx6oMW_f-t",
        "colab_type": "code",
        "colab": {}
      },
      "source": [
        "# Cual hubiera sido tu probabilidad de sobrevivencia de acuerdo a tu genero y edad?\n"
      ],
      "execution_count": 0,
      "outputs": []
    },
    {
      "cell_type": "markdown",
      "metadata": {
        "id": "sJNeQ0nl5kdI",
        "colab_type": "text"
      },
      "source": [
        "# About Me\n",
        "[Stephanie Frias](https://about.me/stephaniefrias)\n",
        "\n",
        "```\n",
        "Twitter: @_stephfz_\n",
        "```\n",
        "\n"
      ]
    }
  ]
}